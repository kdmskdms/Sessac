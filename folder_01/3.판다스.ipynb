{
 "cells": [
  {
   "cell_type": "markdown",
   "metadata": {},
   "source": [
    "### 파일 열기 전에 파일 존재 여부확인\n",
    "- 파일 있는 경로에 내가 사용하고자 하는 파일명이 있는가 체크\n",
    "    - 경로 내 파일리스트를 가져와야함 : fileList=os.listdir('.')\n",
    "    - 가져온 리스트에 검색하는 파일명이 있는가? : fileList.index('card.csv')\n",
    "        - 인덱스 명령은 위치값을 가져옴(0,1,2,3)\n",
    "        - 같은 자료가 없으면 그 어떤값도 가져오지 못해 에러가 남\n",
    "            - try~except로 해결\n",
    "- 학습 모듈\n",
    "    - os.listdir\n",
    "    - glob"
   ]
  },
  {
   "cell_type": "code",
   "execution_count": null,
   "metadata": {},
   "outputs": [],
   "source": [
    "import csv\n",
    "f = open('card.csv')\n",
    "data = csv.reader(f)\n",
    "next(data)\n",
    "data = list(data)\n",
    "print(data[0])"
   ]
  },
  {
   "cell_type": "code",
   "execution_count": 6,
   "metadata": {},
   "outputs": [
    {
     "name": "stdout",
     "output_type": "stream",
     "text": [
      "card.csv 있음\n"
     ]
    }
   ],
   "source": [
    "import os\n",
    "from glob import glob\n",
    "# 경로 없이    # 경로없이   # 경로포함:예 img/a.jpg가 있다면 glob('./img/*') -> \\\\img\\\\a.jpg\n",
    "#os.listdir('.'), glob('*'), glob('./*')\n",
    "findFile ='card.csv'\n",
    "\n",
    "\n",
    "for i in os.listdir('.'):\n",
    "    if i==findFile:\n",
    "        print(findFile, '있음')\n",
    "        break\n"
   ]
  },
  {
   "cell_type": "code",
   "execution_count": 11,
   "metadata": {},
   "outputs": [
    {
     "name": "stdout",
     "output_type": "stream",
     "text": [
      "파일있음\n"
     ]
    }
   ],
   "source": [
    "# 리스트 내에서 값의 위치를 찾는 인덱스 함수가 있음\n",
    "# 파일이 없으면 에러가 표시되므로\n",
    "# try:실행 except:에러 있을때 실행\n",
    "import os\n",
    "from glob import glob\n",
    "fileList =os.listdir('.')\n",
    "try:\n",
    "    fileList.index('card.csv')\n",
    "    print('파일있음')\n",
    "except:\n",
    "    print('파일없음')\n"
   ]
  },
  {
   "cell_type": "code",
   "execution_count": 32,
   "metadata": {},
   "outputs": [
    {
     "data": {
      "text/plain": [
       "['2019-10-12 9:13',\n",
       " '1972753',\n",
       " '본',\n",
       " 'S&',\n",
       " '185',\n",
       " '네이버파이낸셜(주)',\n",
       " '546800',\n",
       " '일시불(A)',\n",
       " '부분취소']"
      ]
     },
     "execution_count": 32,
     "metadata": {},
     "output_type": "execute_result"
    }
   ],
   "source": [
    "import csv\n",
    "f = open('card.csv')\n",
    "data = csv.reader(f)\n",
    "next(data) # 이 작업이 없으면 리스트로 변환하고 0번 자료를 제외해야함\n",
    "list(data)[0] # 상단의 next(data)기능때문에 1번 인덱스(2번행)부터 자료가 표시됨"
   ]
  },
  {
   "cell_type": "code",
   "execution_count": null,
   "metadata": {},
   "outputs": [],
   "source": [
    "next(data)\n",
    "\n",
    "print(data[0])"
   ]
  },
  {
   "cell_type": "code",
   "execution_count": 68,
   "metadata": {},
   "outputs": [],
   "source": [
    "f = open('card.csv')\n",
    "data = csv.reader(f)\n",
    "title = list(data)[0]"
   ]
  },
  {
   "cell_type": "code",
   "execution_count": 69,
   "metadata": {},
   "outputs": [
    {
     "data": {
      "text/plain": [
       "[['2019-10-12 9:13',\n",
       "  '1972753',\n",
       "  '본',\n",
       "  'S&',\n",
       "  '185',\n",
       "  '네이버파이낸셜(주)',\n",
       "  '546800',\n",
       "  '일시불(A)',\n",
       "  '부분취소'],\n",
       " ['2019-10-12 11:56',\n",
       "  '3399357',\n",
       "  '본',\n",
       "  'S&',\n",
       "  '185',\n",
       "  'GS  샵',\n",
       "  '60440',\n",
       "  '일시불(A)',\n",
       "  '전표매입'],\n",
       " ['2019-10-13 9:16',\n",
       "  '12621902',\n",
       "  '본',\n",
       "  'S&',\n",
       "  '185',\n",
       "  'G마켓',\n",
       "  '91520',\n",
       "  'P(A)',\n",
       "  '전표매입']]"
      ]
     },
     "execution_count": 69,
     "metadata": {},
     "output_type": "execute_result"
    }
   ],
   "source": [
    "f = open('card.csv')\n",
    "data = csv.reader(f)\n",
    "data = list(data)[1:]\n",
    "data[:3]"
   ]
  },
  {
   "cell_type": "code",
   "execution_count": 70,
   "metadata": {},
   "outputs": [
    {
     "data": {
      "text/plain": [
       "[546800,\n",
       " 60440,\n",
       " 91520,\n",
       " 89810,\n",
       " 33600,\n",
       " 309600,\n",
       " 61983,\n",
       " 31600,\n",
       " 97000,\n",
       " 96000,\n",
       " 4200,\n",
       " 4200,\n",
       " 75000,\n",
       " 26410,\n",
       " 12500,\n",
       " 1300,\n",
       " 19000,\n",
       " 55995,\n",
       " 118000,\n",
       " 269000,\n",
       " 251000,\n",
       " 75600,\n",
       " 61800,\n",
       " 40900,\n",
       " 4400,\n",
       " 10000,\n",
       " 21400,\n",
       " 63000,\n",
       " 207000,\n",
       " 48000,\n",
       " 23200,\n",
       " 23100,\n",
       " 10000,\n",
       " 50000,\n",
       " 5300,\n",
       " 3990,\n",
       " 11900,\n",
       " 112845,\n",
       " 161598,\n",
       " 16241,\n",
       " 19000,\n",
       " 28500,\n",
       " 4000,\n",
       " 7000,\n",
       " 66046,\n",
       " 139500,\n",
       " 86300,\n",
       " 64900,\n",
       " 30000,\n",
       " 119600,\n",
       " 1500,\n",
       " 18700,\n",
       " 110110,\n",
       " 116000,\n",
       " 12648,\n",
       " 115700,\n",
       " 87500,\n",
       " 100,\n",
       " 81540,\n",
       " 56500,\n",
       " 118400,\n",
       " 4700,\n",
       " 262600,\n",
       " 278600,\n",
       " 55200,\n",
       " 26000,\n",
       " 163080,\n",
       " 339125,\n",
       " 5000,\n",
       " 52000,\n",
       " 7830,\n",
       " 68500,\n",
       " 42020,\n",
       " 16800,\n",
       " 8100,\n",
       " 55200,\n",
       " 2300,\n",
       " 36500,\n",
       " 33000,\n",
       " 15500,\n",
       " 131700,\n",
       " 30000,\n",
       " 56000,\n",
       " 13200,\n",
       " 11500,\n",
       " 50000,\n",
       " 32700,\n",
       " 476736,\n",
       " 283053,\n",
       " 4075,\n",
       " 31480,\n",
       " 67450,\n",
       " 1600,\n",
       " 5900,\n",
       " 152430,\n",
       " 4300,\n",
       " 13900,\n",
       " 29600,\n",
       " 1500,\n",
       " 19800,\n",
       " 54600,\n",
       " 49000,\n",
       " 3000,\n",
       " 29000,\n",
       " 285000,\n",
       " 61200,\n",
       " 100900,\n",
       " 17000,\n",
       " 62600,\n",
       " 16500,\n",
       " 9200,\n",
       " 5000,\n",
       " 48880,\n",
       " 12000,\n",
       " 7100,\n",
       " 6800,\n",
       " 30720,\n",
       " 27710,\n",
       " 4900,\n",
       " 5000,\n",
       " 14000,\n",
       " 10100,\n",
       " 218246,\n",
       " 22400,\n",
       " 27900,\n",
       " 1000,\n",
       " 6000,\n",
       " 10400,\n",
       " 10400,\n",
       " 1000,\n",
       " 5800,\n",
       " 5600,\n",
       " 76000,\n",
       " 5000,\n",
       " 8000,\n",
       " 14400,\n",
       " 8000,\n",
       " 9400,\n",
       " 36900,\n",
       " 22000,\n",
       " 19000,\n",
       " 19000,\n",
       " 9000,\n",
       " 40750,\n",
       " 6650,\n",
       " 1200,\n",
       " 61194,\n",
       " 27000,\n",
       " 5400,\n",
       " 24100,\n",
       " 4900,\n",
       " 5300,\n",
       " 82600,\n",
       " 160000,\n",
       " 240,\n",
       " 16800,\n",
       " 68500,\n",
       " 15000,\n",
       " 24000,\n",
       " 71500,\n",
       " 20000,\n",
       " 1900,\n",
       " 15450,\n",
       " 39200,\n",
       " 35700,\n",
       " 5000,\n",
       " 78200,\n",
       " 28500,\n",
       " 47911,\n",
       " 29000,\n",
       " 7980,\n",
       " 10000,\n",
       " 24840,\n",
       " 23900,\n",
       " 60800,\n",
       " 20110,\n",
       " 9300,\n",
       " 58610,\n",
       " 7300,\n",
       " 1000,\n",
       " 5900,\n",
       " 23000,\n",
       " 14800,\n",
       " 10700,\n",
       " 20000,\n",
       " 60000,\n",
       " 9100,\n",
       " 7700,\n",
       " 1000,\n",
       " 4200,\n",
       " 15300,\n",
       " 8200,\n",
       " 8700,\n",
       " 1000,\n",
       " 6300,\n",
       " 5700,\n",
       " 2800,\n",
       " 35800,\n",
       " 13500,\n",
       " 9500,\n",
       " 40420,\n",
       " 3800,\n",
       " 5100,\n",
       " 4900,\n",
       " 15480,\n",
       " 12000,\n",
       " 14860,\n",
       " 10000,\n",
       " 7600,\n",
       " 69490,\n",
       " 25200,\n",
       " 29000,\n",
       " 33670,\n",
       " 4530,\n",
       " 19110,\n",
       " 100000,\n",
       " 15000,\n",
       " 8800,\n",
       " 7500,\n",
       " 43630,\n",
       " 5500,\n",
       " 1000,\n",
       " 4900,\n",
       " 16800,\n",
       " 53961,\n",
       " 9290,\n",
       " 14400,\n",
       " 350676,\n",
       " 24300,\n",
       " 136400,\n",
       " 46920,\n",
       " 16800,\n",
       " 51502,\n",
       " 9200,\n",
       " 15000,\n",
       " 16640]"
      ]
     },
     "execution_count": 70,
     "metadata": {},
     "output_type": "execute_result"
    }
   ],
   "source": [
    "이용금액=[]\n",
    "for row in data:\n",
    "    이용금액.append(int(row[6]))\n",
    "# 리스트 컴프리헨션으로 변경\n",
    "이용금액 =[int(row[6]) for row in data]\n",
    "이용금액"
   ]
  },
  {
   "cell_type": "code",
   "execution_count": 88,
   "metadata": {},
   "outputs": [
    {
     "data": {
      "text/plain": [
       "['\\ufeff이용일시', '승인번호', '본인구분', '브랜드', '이용카드', '가맹점명', '이용금액', '이용구분', '매입상태']"
      ]
     },
     "execution_count": 88,
     "metadata": {},
     "output_type": "execute_result"
    }
   ],
   "source": [
    "title"
   ]
  },
  {
   "cell_type": "code",
   "execution_count": 90,
   "metadata": {},
   "outputs": [
    {
     "name": "stdout",
     "output_type": "stream",
     "text": [
      "전체합 11419825/최소 100/최대 546800/평균 48389.088983050846\n"
     ]
    }
   ],
   "source": [
    "num=title.index('이용금액') # 이용금액의 index번호를 알려고함\n",
    "이용금액 = [int(row[num]) for row in data] # 코드압축(컴프리헨션)\n",
    "이용금액[:5], 이용금액[-5:] # 위로, 아래로 5개씩 보기\n",
    "print('전체합 {}/최소 {}/최대 {}/평균 {}'.format(sum(이용금액), min(이용금액), max(이용금액), sum(이용금액)/len(이용금액)))"
   ]
  },
  {
   "cell_type": "code",
   "execution_count": 91,
   "metadata": {},
   "outputs": [
    {
     "data": {
      "text/plain": [
       "[<matplotlib.lines.Line2D at 0x1b99d3c5100>]"
      ]
     },
     "execution_count": 91,
     "metadata": {},
     "output_type": "execute_result"
    },
    {
     "data": {
      "image/png": "[encoded data removed]",
      "text/plain": [
       "<Figure size 640x480 with 1 Axes>"
      ]
     },
     "metadata": {},
     "output_type": "display_data"
    }
   ],
   "source": [
    "# 산점도를 통해 데이터 분포 확인\n",
    "import matplotlib.pyplot as plt\n",
    "plt.plot(이용금액,'ro')"
   ]
  },
  {
   "cell_type": "code",
   "execution_count": 77,
   "metadata": {},
   "outputs": [
    {
     "name": "stdout",
     "output_type": "stream",
     "text": [
      "총 이용금액: 698760\n"
     ]
    }
   ],
   "source": [
    "data[0][0], data[-1][0]\n",
    "\n",
    "spend = 0\n",
    "spend += int(data[0][-3])\n",
    "spend += int(data[1][-3])\n",
    "spend += int(data[2][-3])\n",
    "\n",
    "print(\"총 이용금액:\", spend)"
   ]
  },
  {
   "cell_type": "code",
   "execution_count": 92,
   "metadata": {},
   "outputs": [
    {
     "name": "stdout",
     "output_type": "stream",
     "text": [
      "{'승인취소', '전표매입', '매출취소', '부분취소'}\n"
     ]
    }
   ],
   "source": [
    "title\n",
    "전표구분=[row[-1] for row in data]\n",
    "전표리스트 =set(전표구분) # set은 중복제거이지만 이 자료는 인덱싱이 안됨\n",
    "print(전표리스트)\n",
    "#전표리스트[0]"
   ]
  },
  {
   "cell_type": "code",
   "execution_count": 103,
   "metadata": {},
   "outputs": [
    {
     "data": {
      "image/png": "[encoded data removed]",
      "text/plain": [
       "<Figure size 640x480 with 1 Axes>"
      ]
     },
     "metadata": {},
     "output_type": "display_data"
    }
   ],
   "source": [
    "#전표매입에 관련된 이용금액만\n",
    "전표매입리스트=[]\n",
    "for row in data:\n",
    "    if row[-1]=='전표매입':\n",
    "        전표매입리스트.append(int(row[6]))\n",
    "import matplotlib.pyplot as plt\n",
    "plt.rc('font',family ='Malgun Gothic')\n",
    "plt.title('전표매입리스트')#제목달기\n",
    "plt.plot(전표매입리스트,'o')# 점단위로 데이터를 시각화\n",
    "plt.show()"
   ]
  },
  {
   "cell_type": "code",
   "execution_count": null,
   "metadata": {},
   "outputs": [],
   "source": []
  }
 ],
 "metadata": {
  "kernelspec": {
   "display_name": "OpenAI",
   "language": "python",
   "name": "python3"
  },
  "language_info": {
   "codemirror_mode": {
    "name": "ipython",
    "version": 3
   },
   "file_extension": ".py",
   "mimetype": "text/x-python",
   "name": "python",
   "nbconvert_exporter": "python",
   "pygments_lexer": "ipython3",
   "version": "3.12.0"
  }
 },
 "nbformat": 4,
 "nbformat_minor": 2
}
